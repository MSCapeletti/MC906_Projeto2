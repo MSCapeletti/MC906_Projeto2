{
 "cells": [
  {
   "cell_type": "markdown",
   "metadata": {},
   "source": [
    "# *Relatório - Projeto 2*\n",
    "\n",
    "## *Algoritmos Genéticos*\n"
   ]
  },
  {
   "cell_type": "markdown",
   "metadata": {},
   "source": [
    "### *Introdução*"
   ]
  },
  {
   "cell_type": "markdown",
   "metadata": {},
   "source": [
    "### *Modelo*"
   ]
  },
  {
   "cell_type": "markdown",
   "metadata": {},
   "source": [
    "### *Aptitude*\n",
    "\n",
    "\n",
    "\n",
    "Com base no contexto escolhido precisamos escolher uma função que de certa forma avalie a cobertura que essa distribuição de hospitais poderiam trazer para a população.\n",
    "\n",
    "Definimos que cada hospital teria em sua estrutura de dados um _range_. Tal atributo nos daria de certa forma a dimensão da unidade e o alcance que conseguiríamos abranger.\n",
    "\n",
    "Supondo, por exemplo, que um hospital de range 2 está localizado em um espaço (x,y) do nosso grid. Esse centro poderá atender pessoas localizadas nos espaços\n",
    "\n",
    "- (x,y)\n",
    "- (x + 1, y)\n",
    "- (x + 2, y)\n",
    "- (x - 1, y)\n",
    "- (x - 2, y)\n",
    "- (x, y + 1)\n",
    "- (x, y + 2)\n",
    "- (x, y - 1)\n",
    "- (x, y - 2)\n",
    "\n",
    "<div style=\"text-align: center\"><img src=\"range.png\" width=\"350\" /></div>\n",
    "\n",
    "\n",
    "Outra decisão importante que tivemos que pensar é a qual penaliza uma certa solução. \n",
    "\n",
    "Como estamos trabalhando com indivíduos de tamanho variável, precisamos de algum mecanismo que garanta a veracidade de nossa simulação e de certa forma limite essa expansão. Aliás, se passarmos para o mundo real, cada hospital tem um custo para os governantes não é mesmo?\n",
    "\n",
    "Pensando em uma simulação mais próxima da realidade e também pensando na diversidade entre os hospitais, impomos uma outra restrição a um range muito grande. Um hospital naturalmente não conseguirá atender um raio muito acima do que o normal. Assim procuramos de certa maneira normalizar esse range através da razão pelo máximo alcance de um indivíduo dessa população.\n",
    " \n",
    "Quantizamos esse aspecto na forma de um ponto a menos em nossa avaliação para cada hospital compondo a solução.\n",
    "\n",
    "Assim, com os parâmetros descritos, podemos quantizar a capacidade de atendimento de cada população. Através da equação:\n",
    "\n",
    "                                                ```\n",
    "                                                 fitness = (area - custo) / maior_alcance\n",
    "                                                ```\n",
    "\n",
    "Onde:\n",
    "\n",
    " - _area_ é dada pela quantidade de espaços sendo englobados no alcance de todos os hospitais em conjunto, *sem contabillizar duplicatas*;\n",
    " - _custo_ é dado pela soma das penalidades de cada solução, ou seja, o tamanho delas, ou o número de hospitais sendo considerados.\n",
    "\n",
    "```python\n",
    "@memoize_fitness\n",
    "def fitness_function1(individual):\n",
    "    #Cada hospital gera uma penalidade de 1 ponto\n",
    "    #O maior alcance dos hospitais também gera uma penalidade\n",
    "    #O valor da aptidão será (area - custo) / max(range)\n",
    "    reached = []\n",
    "    custo = len(individual)\n",
    "    maxRange = 1\n",
    "    for hospital in individual:\n",
    "        reached.extend(hospital.get_reach())\n",
    "        if hospital.range > maxRange:\n",
    "            maxRange = hospital.range\n",
    "\n",
    "    area = len(set(reached))\n",
    "    fitness = float(area - custo) / maxRange\n",
    "    return fitness\n",
    "```\n",
    "\n"
   ]
  },
  {
   "cell_type": "markdown",
   "metadata": {},
   "source": [
    "### *Dados*"
   ]
  },
  {
   "cell_type": "markdown",
   "metadata": {},
   "source": [
    "### *Particularidades e restrições*"
   ]
  }
 ],
 "metadata": {
  "language_info": {
   "codemirror_mode": {
    "name": "ipython",
    "version": 3
   },
   "file_extension": ".py",
   "mimetype": "text/x-python",
   "name": "python",
   "nbconvert_exporter": "python",
   "pygments_lexer": "ipython3",
   "version": 3
  },
  "orig_nbformat": 2
 },
 "nbformat": 4,
 "nbformat_minor": 2
}